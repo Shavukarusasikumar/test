{
 "cells": [
  {
   "cell_type": "code",
   "execution_count": 24,
   "id": "b484a3b9",
   "metadata": {},
   "outputs": [
    {
     "data": {
      "text/plain": [
       "4"
      ]
     },
     "execution_count": 24,
     "metadata": {},
     "output_type": "execute_result"
    }
   ],
   "source": [
    "def fun(l):\n",
    "    a=0\n",
    "    n=len(l)\n",
    "    m=[{} for _ in range(n)]\n",
    "    for i in range(n):\n",
    "        for j in range(i):\n",
    "            dif=l[i]-l[j]\n",
    "            m[i][dif]=m[i].get(dif,0)+1\n",
    "            if dif in m[j]:\n",
    "                m[i][dif]+=m[j][dif]\n",
    "                a+=m[j][dif]\n",
    "                \n",
    "    return a\n",
    "l=[2,4,6,8,10]\n",
    "fun(l)"
   ]
  },
  {
   "cell_type": "code",
   "execution_count": 22,
   "id": "5cf088b6",
   "metadata": {},
   "outputs": [
    {
     "name": "stdout",
     "output_type": "stream",
     "text": [
      "2 --. 5 2\n",
      "Not a Wave Number\n",
      "2 --. 5 5\n"
     ]
    }
   ],
   "source": [
    "n='625397'\n",
    "x1,x2=int(n[0]),int(n[1])\n",
    "if x1>x2:\n",
    "    c=1\n",
    "    for i in range(2,len(n)):\n",
    "        if int(n[i])<x2:\n",
    "            c-=1\n",
    "            print(c,'--.',int(n[i]),x2)\n",
    "            x2=int(n[i])\n",
    "        else:\n",
    "            c+=1\n",
    "            print(c,'--.',int(n[i]),x2)\n",
    "            x2=int(n[i])\n",
    "        if c!=0 or c!=1:\n",
    "            print('Not a Wave Number')\n",
    "            print(c,'--.',int(n[i]),x2)\n",
    "            break\n",
    "    else:\n",
    "        print('Wave Number')\n"
   ]
  },
  {
   "cell_type": "code",
   "execution_count": 23,
   "id": "75020979",
   "metadata": {},
   "outputs": [
    {
     "name": "stdout",
     "output_type": "stream",
     "text": [
      "625397\n",
      "Wave Number\n"
     ]
    }
   ],
   "source": [
    "x=input()\n",
    "x=[int(i) for i in x]\n",
    "c=0\n",
    "c1=0\n",
    "for i in range(1,len(x)-1):\n",
    "    if (x[i]>x[i-1] and x[i]>x[i+1]) or (x[i]<x[i-1] and x[i]<x[i+1]):\n",
    "        c+=1\n",
    "if (x[0]>x[1] or x[0]<x[1]) and (x[-1]>x[-2] or x[-1]<x[-2]):\n",
    "    c+=2\n",
    "if c==len(x):\n",
    "    print('Wave Number')\n",
    "else:\n",
    "    print('Not a Wave Number')"
   ]
  },
  {
   "cell_type": "code",
   "execution_count": null,
   "id": "cf85f0e0",
   "metadata": {},
   "outputs": [
    {
     "ename": "",
     "evalue": "",
     "output_type": "error",
     "traceback": [
      "\u001b[1;31mRunning cells with 'Python 3.12.3' requires the ipykernel package.\n",
      "\u001b[1;31m<a href='command:jupyter.createPythonEnvAndSelectController'>Create a Python Environment</a> with the required packages.\n",
      "\u001b[1;31mOr install 'ipykernel' using the command: '/bin/python3 -m pip install ipykernel -U --user --force-reinstall'"
     ]
    }
   ],
   "source": [
    "class Node:\n",
    "    def __init__(self, data):\n",
    "        self.data = data\n",
    "        self.next = None\n",
    "\n",
    "def merge_linked_lists(list1, list2):\n",
    "    # Create a dummy node to simplify code\n",
    "    dummy = Node(0)\n",
    "    current = dummy\n",
    "\n",
    "    # Traverse both lists\n",
    "    while list1 is not None and list2 is not None:\n",
    "        if list1.data >= list2.data:\n",
    "            current.next = list1\n",
    "            list1 = list1.next\n",
    "        else:\n",
    "            current.next = list2\n",
    "            list2 = list2.next\n",
    "        current = current.next\n",
    "\n",
    "    # If one list is longer than the other, add remaining elements\n",
    "    while list1 is not None:\n",
    "        current.next = list1\n",
    "        list1 = list1.next\n",
    "        current = current.next\n",
    "\n",
    "    while list2 is not None:\n",
    "        current.next = list2\n",
    "        list2 = list2.next\n",
    "        current = current.next\n",
    "\n",
    "    # Reverse the merged list to make it non-increasing\n",
    "    #this is change\n",
    "    result = dummy.next\n",
    "    prev = None\n",
    "    \n",
    "    while result is not None:\n",
    "        next_node = result.next\n",
    "        result.next = prev\n",
    "        prev = result\n",
    "        result = next_node\n",
    "\n",
    "    return prev\n",
    "\n",
    "# Example usage:\n",
    "# Assume list1 and list2 are instances of Node representing linked lists\n",
    "# with non-decreasing order.\n",
    "\n",
    "# merged_list will be the merged list in non-increasing order\n",
    "merged_list = merge_linked_lists(list1, list2)\n"
   ]
  },
  {
   "cell_type": "code",
   "execution_count": 1,
   "id": "2e86c6b1",
   "metadata": {},
   "outputs": [
    {
     "name": "stdout",
     "output_type": "stream",
     "text": [
      "100\n",
      "52\n"
     ]
    }
   ],
   "source": [
    "n=int(input())\n",
    "cnt=0\n",
    "if n>3:\n",
    "    cnt+=3\n",
    "for i in range(2,n+1):\n",
    "    c=0\n",
    "    while i:\n",
    "        c+=1\n",
    "        i=i&(i-1)\n",
    "    if c&1==0:\n",
    "        cnt+=1\n",
    "print(cnt)\n",
    "\n"
   ]
  },
  {
   "cell_type": "code",
   "execution_count": 15,
   "id": "fb2f95ef",
   "metadata": {},
   "outputs": [
    {
     "name": "stdout",
     "output_type": "stream",
     "text": [
      "[1, 2, 3]\n",
      "[2, 3, 4]\n",
      "[3, 4, 5]\n",
      "[4, 5, 6]\n"
     ]
    }
   ],
   "source": [
    "n = [1,2,3,4,5,6]\n",
    "k = 3\n",
    "# 1 2 3\n",
    "# 2 3 4\n",
    "# 3 4 5\n",
    "# 4 5 6\n",
    "i=0\n",
    "# while i<len(n)-k+1:\n",
    "#     print(n[i:i+k])\n",
    "#     i+=1\n",
    "for i in range(len(n)-k+1):\n",
    "    print(n[i:i+k])"
   ]
  }
 ],
 "metadata": {
  "kernelspec": {
   "display_name": "Python 3",
   "language": "python",
   "name": "python3"
  },
  "language_info": {
   "codemirror_mode": {
    "name": "ipython",
    "version": 3
   },
   "file_extension": ".py",
   "mimetype": "text/x-python",
   "name": "python",
   "nbconvert_exporter": "python",
   "pygments_lexer": "ipython3",
   "version": "3.12.3"
  }
 },
 "nbformat": 4,
 "nbformat_minor": 5
}
